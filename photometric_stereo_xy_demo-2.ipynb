
# Add these packages, if you don't have them yet
# Pkg.add("IterativeSolvers")
# Pkg.add("MAT")
# Pkg.add("Plots")

# Dependencies
using IterativeSolvers # for lsqr()
using MAT # for reading .mat file with matread()
using Plots; plotly()
println("READY!")

# Macro for displaying things
macro disp(ex)
    return :(println($(string(ex)), " = ", $ex))
end

# Dataset
vars = matread("cat_xy.mat")

# Load data
I = vars["I"]
M = vars["M"]
L = vars["L"]
m, n, d = size(I)
@disp size(I)
@disp size(M)
@disp size(L)

# Display p ≤ d of the input images
p = 2
rowify = (I) -> reshape(permutedims(I, [1 3 2]), :, size(I,2))
heatmap(1:m*p, 1:n,
    rowify(I[:,:,1:p]),
    transpose=true, aspect_ratio=1, yflip=true, color=:grays,
    title = "first $p input images",
    xticks=[1,m], yticks=[1,n])

include("compute_normals.jl") # your file must be accessible to Julia!

# Compute unit-normals from images
N = compute_normals(I, L)

@disp size(N)

# display the 3 components of the normal vectors as images
heatmap(1:m*3, 1:n,
    rowify(N),
    transpose=true, aspect_ratio=1, yflip=true, color=:grays,
    title = "3 components of unit-normals",
    xticks=[1,m], yticks=[1,n])

# Compute gradients from normals
DFDX = -N[:, :, 1] ./ N[:, :, 3]
DFDY = -N[:, :, 2] ./ N[:, :, 3]
DFDX[.!isfinite.(DFDX) .| .!M] = 0          # Clean data and apply mask
DFDY[.!isfinite.(DFDY) .| .!M] = 0          # Clean data and apply mask

@disp size(DFDX)
@disp size(DFDY)

# display the gradients
heatmap(1:m*2, 1:n,
    cat(1, DFDX, DFDY), # feline pun intended?
    transpose=true, aspect_ratio=1, yflip=true, color=:redsblues,
    title = "DFDX and DFDY",
    xticks=[1,m], yticks=[1,n])

include("first_diffs_2d_matrix.jl") # again, your solution file

# Generate least squares problem
A = first_diffs_2d_matrix(m, n)
b = [DFDX[:]; DFDY[:]]

@disp size(A)
@disp size(b)

# Solve least squares problem (patience needed)
include("lsngd.jl")
fxy = lsngd(A, b,1/9, zeros(size(A,2)),500)

@disp size(fxy)

# Reshape into surface
FXY = reshape(fxy, m, n)

# Format surface
FXY .-= minimum(FXY[M]) # Anchor to z axis
FXY .*= M               # Zero data outside of mask
@disp size(FXY)

# Plot surface
# you can view it from different perspectives using the interface
plot(FXY,
    st = :surface,
    color = :deep_r,
    title = "Reconstructed surface, nIter = 500 (lsngd)",
)

# also display surface as an "image"
heatmap(1:m, 1:n, FXY,
    transpose=true, aspect_ratio=1, yflip=true, color=:redsblues,
    title = "f(x,y)",
    xticks=[1,m], yticks=[1,n])
