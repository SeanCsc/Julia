
using PyPlot
jim = (Y) -> begin
    imshow(Y', cmap="gray")
    xticks([0, size(Y,1)])
    yticks([0, size(Y,2)])
    colorbar()
    end;

# Data
if true
    # make a matrix that has low rank
    tmp = [
        zeros(1,20);
        0 1 0 0 0 0 1 0 0 0 1 1 1 1 0 1 1 1 1 0;
        0 1 0 0 0 0 1 0 0 0 0 1 0 0 1 0 0 1 0 0;
        0 1 0 0 0 0 1 0 0 0 0 1 0 0 0 0 0 1 0 0;
        0 0 1 1 1 1 0 0 0 0 1 1 0 0 0 0 0 1 1 0;
        zeros(1,20)
    ]';
    Xtrue = 80 * kron(1+tmp, ones(9,9))
    srand(0)
    Omega = rand(size(Xtrue)) .>= 0.75 # 75% missing
    Y = Omega .* Xtrue + randn(size(Xtrue))
end
jim(Y)
title("Y: Corrupted image matrix\n(missing pixels set to 0)")
nrmse = (Xh) -> vecnorm(Xh - Xtrue) / vecnorm(Xtrue) * 100
xnrmse = (Xh) -> xlabel(@sprintf("NRMSE = %.2f%%", nrmse(Xh)))
xnrmse(Y)
Omega

# Show mask, count proportion of missing entries
jim(Omega)
title(L"$\Omega$: Locations of observed entries")
percent_nonzero = countnz(Omega)/prod(size(Omega))
@show percent_nonzero;

# Show that a simple low-rank approximation works poorly
r = 6
U,s,V = svd(Y)
Xr = U[:,1:r] * Diagonal(s[1:r]) * V[:,1:r]'
jim(Xr)
title("low-rank approximation")
xnrmse(Xr);

# Define cost function for optimization problem
nucnorm = (X) -> begin
    U,s,V = svd(X)
    return norm(s,1)
end

costfun1 = (X,beta) -> 0.5 * norm(X[Omega]-Y[Omega])^2 + beta * nucnorm(X); # nucnorm cost

# Define singular value soft thresholding (SVST)
SVST = (X,beta) -> begin
    U,s,V = svd(X)
    sthresh = max.(s-beta,0)
    return U * Diagonal(sthresh) * V'
end;

# Apply ISTA (Iterative Soft-Thresholding Algorithm)
niter = 400
X = copy(Y)
Xold = copy(X)
beta = 0.8 # chosen by trial-and-error here
cost_ista = zeros(niter+1)
cost_ista[1] = costfun1(X,beta)
for k=1:niter
    X[Omega] = Y[Omega]
    X = SVST(X,beta)
    cost_ista[k+1] = costfun1(X,beta)
end
xh_ista = copy(X)
jim(xh_ista)
title("ISTA result at $niter iterations")
xnrmse(xh_ista);

s = svd(xh_ista)[2]
s0 = svd(Y)[2]
plot(s0, "ro"); plot(s, "bx")
legend(["Y (initialization)","X (output of ISTA)"])
title("singular values");

plot(cost_ista, "b-o")
title("cost vs. iteration") 
xlabel("iteration")
ylabel("cost function value") 
legend(["ISTA"]);

function lr_schatten(Y, reg::Number)
    (U,s,V) = svd(Y)
    x_s = zeros(length(s))
    for i = 1:length(s)
        if s[i] > (3/2) * reg^(2/3)
            x_s[i] = (4/3) * s[i] * (cos((1/3)*acos((-3^(3/2) * reg)/ (4*s[i]^(3/2)) )))^2
        else
            x_s[i] = 0
        end
    end
    X = U * diagm(x_s) * V.'
end

function fista_schatten(Y, M, reg::Number, niter::Number)
    Omega = M > 0.5
    Y = Y.*M
    X = copy(Y)
    Z = copy(X)
    Xold = copy(X)
    told = 1
    beta = reg
    cost_fista = zeros(niter+1)
    cost_fista[1] = costfun1(X,beta)
    for k=1:niter
        Z[Omega] = Y[Omega]
    X = lr_schatten(Z,beta)
    t = (1 + sqrt(1+4*told^2))/2
    Z = X + ((told-1)/t)*(X-Xold)
    Xold = copy(X)
    told = t
    cost_fista[k+1] = costfun1(X,beta) # comment out to speed-up
    end
    xh = copy(X)
    return xh
end

# Run FISTA algorithm
niter = 200
X = copy(Y)
Z = copy(X)
Xold = copy(X)
told = 1
# beta = ? # use same beta
cost_fista = zeros(niter+1)
cost_fista[1] = costfun1(X,beta)
for k=1:niter
    Z[Omega] = Y[Omega]
    X = SVST(Z,beta)
    t = (1 + sqrt(1+4*told^2))/2
    Z = X + ((told-1)/t)*(X-Xold)
    Xold = copy(X)
    told = t
    cost_fista[k+1] = costfun1(X,beta) # comment out to speed-up
end
xh_nn_fista = fista_schatten(Y, 1, niter)
jim(xh_nn_fista)
title("FISTA with nuclear norm at $niter iterations")
xnrmse(xh_nn_fista);

#savefig("schatten_complete_fs200_nn.pdf")

plot(cost_ista, "b-o")
plot(cost_fista, "g-x")
title("cost vs. iteration"); xlabel("iteration"); ylabel("cost function value")
legend(["ISTA", "FISTA"]);

# See if the FISTA result is "low rank" 
s = svd(xh_nn_fista)[2]
s0 = svd(Y)[2]
plot(s0, "ro"); plot(s, "gx")
legend(["Y (initialization)", "Xh (output of FISTA)"]); title("singular values")
effective_rank = sum(s.>(0.01*s[1]));
@show effective_rank;

# Optional exercise: think about why σ1(Xh) > σ1(Y) !
# optional: try ADMM too

# 1D shrinker for |x|^(1/2)
function shrink_p_1_2_sol(y, reg::Number)

    
end

# regularized LR approximation using p=1/2 Schatten
function lr_schatten_sol(Y, reg::Number)
    (U,s,V) = svd(Y)
    x_s = zeros(length(s))
    for i = 1:length(s)
        if s[i] > (3/2) * reg^(2/3)
            x_s[i] = (4/3) * s[i] * (cos((1/3)*acos((-3^(3/2) * reg)/ (4*s[i]^(3/2)) )))^2
        else
            x_s[i] = 0
        end
    end
    X = U * diagm(x_s) * V.'
end

# FISTA for p=1/2 Schatten
function fista_schatten(Y, M, reg::Number, niter::Number)
    Omega = M > 0.5
    X = copy(Y)
    Z = copy(X)
    Xold = copy(X)
    told = 1
    U,s,V = svd(X)
# beta = ? # use same beta
    cost_fista = zeros(niter+1)
    cost_fista[1] = 0.5 * norm(X[Omega]-Y[Omega])^2 + beta * norm(s,1)
    for k=1:niter
        Z[Omega] = Y[Omega]
        X = lr_schatten(Z,beta)
        t = (1 + sqrt(1+4*told^2))/2
        Z = X + ((told-1)/t)*(X-Xold)
        Xold = copy(X)
        told = t
        cost_fista[k+1] = 0.5 * norm(X[Omega]-Y[Omega])^2 + beta * norm(s,1) # comment out to speed-up
    end
    xh = copy(X)
    return xh
end

# apply FISTA for Schatten
niter = 150
reg_fs = 120
xh_fs = fista_schatten_sol(Y, Omega, reg_fs, niter)

jim(xh_fs)
title("FISTA for Schatten p=1/2 'norm' at $niter iterations")
@show r
xnrmse(xh_fs);

# See if the Schatten FISTA result is "low rank" 
s = svd(xh_fs)[2]
s0 = svd(Y)[2]
plot(s0, "ro"); plot(s, "gx")
legend(["Y (initialization)", "Xh (output of FISTA for Schatten)"]); title("singular values")
effective_rank = sum(s.>(0.01*s[1]));
@show effective_rank;

# error image for nuclear norm
jim(xh_nn_fista - Xtrue)
title("FISTA Nuclear Norm: Xh-X")
xnrmse(xh_nn_fista);

# error image for schatten p=1/2
jim(xh_fs - Xtrue)
title("FISTA Schatten p=1/2 'Norm': Xh-X")
xnrmse(xh_fs);
