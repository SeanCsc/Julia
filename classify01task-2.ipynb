
using Images
using Plots
#pyplot()
plotly();

# read the MNIST data file for 0 and 1 digits
# download from web if needed

nx = 28 # original image size
ny = 28
nrep = 1000

fp = open("data0", "r")
x0 = read(fp, UInt8, (nx,ny,nrep))
close(fp)
fp = open("data1", "r")
x1 = read(fp, UInt8, (nx,ny,nrep))
close(fp)
fp = open("data2", "r")
x2 = read(fp, UInt8, (nx,ny,nrep))
close(fp)
fp = open("data3", "r")
x3 = read(fp, UInt8, (nx,ny,nrep))
close(fp)
fp = open("data4", "r")
x4 = read(fp, UInt8, (nx,ny,nrep))
close(fp)
fp = open("data5", "r")
x5 = read(fp, UInt8, (nx,ny,nrep))
close(fp)
fp = open("data6", "r")
x6 = read(fp, UInt8, (nx,ny,nrep))
close(fp)
fp = open("data7", "r")
x7 = read(fp, UInt8, (nx,ny,nrep))
close(fp)
fp = open("data8", "r")
x8 = read(fp, UInt8, (nx,ny,nrep))
close(fp)
fp = open("data9", "r")
x9 = read(fp, UInt8, (nx,ny,nrep))
close(fp)

iy = 2:ny
x0 = x0[:,iy,:] # make images non-square to help debug
x1 = x1[:,iy,:]
x2 = x2[:,iy,:] # make images non-square to help debug
x3 = x3[:,iy,:]
x4 = x4[:,iy,:] # make images non-square to help debug
x5 = x5[:,iy,:]
x6 = x6[:,iy,:] # make images non-square to help debug
x7 = x7[:,iy,:]
x8 = x8[:,iy,:] # make images non-square to help debug
x9 = x9[:,iy,:]

ny = length(iy)

display(size(x0))

# function to display mosaic of multiple images
imshow3 = (x) -> begin
    tmp = permutedims(x, [1, 3, 2])
    tmp = reshape(tmp, :, ny)
    heatmap(1:size(tmp,1), 1:ny, tmp,
        xtick=[1,nx], ytick=[1,ny], yflip=true,
        color=:grays, transpose=true, aspect_ratio=1)
end

# look at a couple of the images
imshow3(cat(3, x0[:,:,1:2], x1[:,:,1:2],x9[:,:,1:2]))

# use some data for training, and some for test
ntrain = 256
ntest = nrep - ntrain
train0 = x0[:,:,1:ntrain] # training data
train1 = x1[:,:,1:ntrain]
train2 = x2[:,:,1:ntrain] # training data
train3 = x3[:,:,1:ntrain]
train4 = x4[:,:,1:ntrain] # training data
train5 = x5[:,:,1:ntrain]
train6 = x6[:,:,1:ntrain] # training data
train7 = x7[:,:,1:ntrain]
train8 = x8[:,:,1:ntrain] # training data
train9 = x9[:,:,1:ntrain]
test0 = reshape(x0[:,:,(ntrain+1):end],:,744) # testing data
test1 = reshape(x1[:,:,(ntrain+1):end],:,744)
test2 = reshape(x2[:,:,(ntrain+1):end],:,744) # testing data
test3 = reshape(x3[:,:,(ntrain+1):end],:,744)
test4 = reshape(x4[:,:,(ntrain+1):end],:,744) # testing data
test5 = reshape(x5[:,:,(ntrain+1):end],:,744);
test6 = reshape(x6[:,:,(ntrain+1):end],:,744) # testing data
test7 = reshape(x7[:,:,(ntrain+1):end],:,744);
test8 = reshape(x8[:,:,(ntrain+1):end],:,744) # testing data
test9 = reshape(x9[:,:,(ntrain+1):end],:,744);

（S,V,D) = svd(train0)

# look at mean image from each class just to get a sense of things

#mean0 = mean(train0, 3) # makes a 3D array 28x28x1
#mean1 = mean(train1, 3)
mean0 = squeeze(mean(train0, 3), 3)
mean1 = squeeze(mean(train1, 3), 3)

imshow3(cat(3, mean0, mean1))
reshape(train0, :,100)

# Examine the scree plots to choose a rank!
#U0, s0, V0 = svd(reshape(train0, :, 100))
#U1, s1, V1 = svd(reshape(train1, :, 100))
#plot(1:ntrain, s0, line=(:dots, :blue), label="0")
#plot!(1:ntrain, s1, line=(:dots,:red), label="1")
#reshape(train1, :, 256)
#train = zeros(756*256*10)

train = zeros(756,256,10)
train[:,:,1] = reshape(train0, :, 256)
train[:,:,2] = reshape(train1, :, 256)
train[:,:,3] = reshape(train2, :, 256)
train[:,:,4] = reshape(train3, :, 256)
train[:,:,5] = reshape(train4, :, 256)
train[:,:,6] = reshape(train5, :, 256)
train[:,:,7] = reshape(train6, :, 256)
train[:,:,8] = reshape(train7, :, 256)
train[:,:,9] = reshape(train8, :, 256)
train[:,:,10] = reshape(train9, :, 256)



# Estimate subspaces for each digit class from training data
#k = 3
#q0 = reshape(U0[:, 1:k], 28, 27, k);
#q1 = reshape(U1[:, 1:k], 28, 27, k);
size(train)

function classify_image(test, train, k)
m,n,num = size(train)
m,T = size(test)
Pq = zeros(m,m,10)
err = zeros(10, T)
for i = 1:10
	U,S,V = svd(train[:,:,i])
	Pq[:,:,i] = U[:,1:k] * U[:,1:k]'
end
for i = 1:10
err[i, :] = sum((test - Pq[:, :, i] * test).^2, 1)
end
idx = findmin(err, 1)[2] # These are linear indices!!
idx = ind2sub(size(err), vec(idx))[1] 
labels = idx - 1 
 return labels
end

# show images of the 1st 3 components of 0 digit subspace
#imshow3(q0[:,:,1:3])
accuracy = zeros(size(train)[1])
for k = 1 : 5
    tmp = 0
    label = classify_image(test0, train, k)
    for i = 1:744
        if label[i] == 0 
            tmp = tmp+1
        end
    end
    accuracy[k] = tmp/744
end
plot(accuracy,label = 'digit0')
    
        


# show images of the 1st 3 components of 1 digit subspace
accuracy

# Classify all the test data based on your subspace estimates
# and count number of misclassified digits
# reshape() and vecnorm() and mapslices() probably useful here
function classifier(x)
    x_k = reshape(x, :, 1)
    if vecnorm(x_k - U0[:,1:k]*U0[:,1:k]'*x_k, 2) < vecnorm(x_k - U1[:,1:k]*U1[:,1:k]'*x_k, 2)
        return 0;
    else
        return 1;
    end 
end
correct0 = 1 - mapslices(classifier, reshape(test0,:,900), 1)
correct1 = mapslices(classifier, reshape(test1,:,900), 1)
display(sum(correct0) / ntest)
display(sum(correct1) / ntest)

# Show pictures of some of the misclassified digits
bad0 = find(iszero, correct0) 
imshow3(test0[:,:,bad0])

bad1 = find(iszero, correct1) 
imshow3(test1[:,:,bad1])
